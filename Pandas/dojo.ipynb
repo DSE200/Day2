{
 "cells": [
  {
   "cell_type": "markdown",
   "id": "bc20acd765a2cb5d",
   "metadata": {},
   "source": [
    "# In-Class Assignment: Fish Weight Prediction using Linear Regression\n",
    "\n",
    "## Objective\n",
    "In this assignment, you will build a linear regression model to predict fish weight based on length measurements using the Fish Market dataset. This is a practical real-world scenario: imagine you're a fish market vendor without a scale, but you have a tape measure!\n",
    "\n",
    "## Dataset\n",
    "The Fish Market dataset contains measurements of different fish species including:\n",
    "- Species (Perch, Bream, Roach, Pike, Smelt, Parkki, Whitefish)\n",
    "- Weight (in grams)\n",
    "- Length measurements (Length1, Length2, Length3)\n",
    "- Height and Width\n",
    "\n",
    "## Scenario\n",
    "You run a fish market and your scale broke! But you have a tape measure. Can you predict the weight of Perch fish using just their length?\n",
    "\n",
    "## Assignment Tasks\n",
    "\n",
    "### Part 1: Data Loading and Exploration\n",
    "Download and load the Fish Market dataset, then explore its structure and contents."
   ]
  },
  {
   "cell_type": "code",
   "id": "cf39568dc0b7747f",
   "metadata": {},
   "source": [
    "!pip install kagglehub"
   ],
   "outputs": [],
   "execution_count": null
  },
  {
   "cell_type": "code",
   "id": "64027afe1b05c466",
   "metadata": {},
   "source": "import kagglehub",
   "outputs": [],
   "execution_count": null
  },
  {
   "cell_type": "code",
   "id": "163363b77eec3839",
   "metadata": {},
   "source": [
    "path = kagglehub.dataset_download(\"vipullrathod/fish-market\")\n",
    "print(\"Path to dataset files:\", path)"
   ],
   "outputs": [],
   "execution_count": null
  },
  {
   "cell_type": "markdown",
   "id": "89fc8695fed238d5",
   "metadata": {},
   "source": [
    "### Task 1.1: Load the dataset\n",
    "Load the CSV file from the downloaded path into a pandas DataFrame."
   ]
  },
  {
   "cell_type": "code",
   "id": "d88c7adb29d26cd9",
   "metadata": {},
   "source": [
    "# TODO: Load the dataset\n",
    "# Hint: The file is named 'Fish.csv'\n",
    "# df = pd.read_csv(...)"
   ],
   "outputs": [],
   "execution_count": null
  },
  {
   "cell_type": "markdown",
   "id": "9bc15e10934d0317",
   "metadata": {},
   "source": [
    "### Task 1.2: Initial Data Exploration\n",
    "Display the first few rows, dataset shape, and information about the columns."
   ]
  },
  {
   "cell_type": "code",
   "id": "346d94991ce0360a",
   "metadata": {},
   "source": [
    "# TODO: Display first 5 rows of the dataset"
   ],
   "outputs": [],
   "execution_count": null
  },
  {
   "cell_type": "code",
   "id": "2a3b5945e3580229",
   "metadata": {},
   "source": [
    "# TODO: Display dataset shape (rows and columns)"
   ],
   "outputs": [],
   "execution_count": null
  },
  {
   "cell_type": "code",
   "id": "177c360e349c1d8b",
   "metadata": {},
   "source": [
    "# TODO: Display dataset info (column types, missing values)"
   ],
   "outputs": [],
   "execution_count": null
  },
  {
   "cell_type": "code",
   "id": "7cada74dbc5a097e",
   "metadata": {},
   "source": [
    "# TODO: Display statistical summary of numerical columns"
   ],
   "outputs": [],
   "execution_count": null
  },
  {
   "cell_type": "code",
   "id": "new_cell_species",
   "metadata": {},
   "source": [
    "# TODO: Display unique fish species in the dataset\n",
    "# Hint: Check the 'Species' column"
   ],
   "outputs": [],
   "execution_count": null
  },
  {
   "cell_type": "markdown",
   "id": "fe9bd67ff95e1bd9",
   "metadata": {},
   "source": [
    "### Part 2: Data Filtering and Preparation\n",
    "\n",
    "### Task 2.1: Filter for Perch Only\n",
    "Since we're focusing on predicting Perch weight, filter the dataset to only include Perch fish."
   ]
  },
  {
   "cell_type": "code",
   "id": "ef36b7db74a0b73c",
   "metadata": {},
   "source": [
    "# TODO: Filter the dataset to only include Perch\n",
    "# Print the shape of the filtered dataset"
   ],
   "outputs": [],
   "execution_count": null
  },
  {
   "cell_type": "markdown",
   "id": "d6e04c0c1f82de4d",
   "metadata": {},
   "source": [
    "### Task 2.2: Explore Length Measurements\n",
    "The dataset has three length measurements (Length1, Length2, Length3). Let's understand what they are and which one to use."
   ]
  },
  {
   "cell_type": "code",
   "id": "315ff4fb3aae0c4e",
   "metadata": {},
   "source": [
    "# TODO: Display statistics for the three length columns for Perch\n",
    "# Note: Length1 is vertical length, Length2 is diagonal length, Length3 is cross length\n",
    "# We'll use Length1 as it's the most common measurement with a tape measure"
   ],
   "outputs": [],
   "execution_count": null
  },
  {
   "cell_type": "markdown",
   "id": "40114956a36599f",
   "metadata": {},
   "source": [
    "### Part 3: Exploratory Data Analysis\n",
    "\n",
    "### Task 3.1: Visualize the Relationship\n",
    "Create a scatter plot to visualize the relationship between length and weight for Perch."
   ]
  },
  {
   "cell_type": "code",
   "id": "12edaea2ad4298bf",
   "metadata": {},
   "source": [
    "# TODO: Create a scatter plot of Length1 vs Weight for Perch\n",
    "# plt.figure(figsize=(10, 6))\n",
    "# plt.scatter(...)\n",
    "# plt.xlabel('Length (cm)')\n",
    "# plt.ylabel('Weight (g)')\n",
    "# plt.title('Perch: Length vs Weight')\n",
    "# plt.show()"
   ],
   "outputs": [],
   "execution_count": null
  },
  {
   "cell_type": "markdown",
   "id": "eea28840a1ff34bf",
   "metadata": {},
   "source": [
    "### Task 3.2: Check for Missing Values\n",
    "Ensure there are no missing values in our key columns."
   ]
  },
  {
   "cell_type": "code",
   "id": "4885618b78757a35",
   "metadata": {},
   "source": "# TODO: Check for missing values in Weight and Length1\n",
   "outputs": [],
   "execution_count": null
  },
  {
   "cell_type": "markdown",
   "id": "a3302aa0dbf41d4c",
   "metadata": {},
   "source": [
    "### Part 4: Data Preparation for Linear Regression\n",
    "\n",
    "### Task 4.1: Prepare Feature Matrix and Target Vector\n",
    "Create X (length feature) and y (weight target) arrays for modeling."
   ]
  },
  {
   "cell_type": "code",
   "id": "2297f67320b45342",
   "metadata": {},
   "source": "# TODO: Create feature matrix X with Length1",
   "outputs": [],
   "execution_count": null
  },
  {
   "cell_type": "code",
   "id": "409493e76e6b085f",
   "metadata": {},
   "source": "# TODO: Create target vector y (Weight column)",
   "outputs": [],
   "execution_count": null
  },
  {
   "cell_type": "markdown",
   "id": "6641bed8824012b9",
   "metadata": {},
   "source": [
    "### Task 4.2: Split Data into Training and Testing Sets\n",
    "Split your data into 80% training and 20% testing sets."
   ]
  },
  {
   "cell_type": "code",
   "id": "c71a3eccc4ac7697",
   "metadata": {},
   "source": "# TODO: Split the data using train_test_split",
   "outputs": [],
   "execution_count": null
  },
  {
   "cell_type": "markdown",
   "id": "1d1d666e0d0a6e5b",
   "metadata": {},
   "source": [
    "### Part 5: Build and Train Linear Regression Model\n",
    "\n",
    "### Task 5.1: Create and Train the Model\n",
    "Initialize a Linear Regression model and fit it to the training data."
   ]
  },
  {
   "cell_type": "code",
   "id": "e6861e0ddf3984b4",
   "metadata": {},
   "source": [
    "# TODO: Create a LinearRegression model instance\n",
    "# model = LinearRegression()"
   ],
   "outputs": [],
   "execution_count": null
  },
  {
   "cell_type": "code",
   "id": "66a481fe025903cd",
   "metadata": {},
   "source": "# TODO: Train the model using the training data\n",
   "outputs": [],
   "execution_count": null
  },
  {
   "cell_type": "markdown",
   "id": "5900a8dd93e39aa1",
   "metadata": {},
   "source": [
    "### Task 5.2: Display Model Coefficients\n",
    "Show the coefficients (slope) and intercept of the linear equation."
   ]
  },
  {
   "cell_type": "code",
   "id": "14d5c0c299a030fc",
   "metadata": {},
   "source": "# TODO: Display the model coefficient (slope) and intercept",
   "outputs": [],
   "execution_count": null
  },
  {
   "cell_type": "markdown",
   "id": "105043d7fe977155",
   "metadata": {},
   "source": [
    "### Part 6: Model Evaluation\n",
    "\n",
    "### Task 6.1: Make Predictions\n",
    "Use the trained model to make predictions on the test set."
   ]
  },
  {
   "cell_type": "code",
   "id": "b7ab2e30116ee160",
   "metadata": {},
   "source": "# TODO: Make predictions on the test set",
   "outputs": [],
   "execution_count": null
  },
  {
   "cell_type": "markdown",
   "id": "c29aedbff871e077",
   "metadata": {},
   "source": [
    "### Task 6.2: Calculate Performance Metrics\n",
    "Calculate and display R² score and Root Mean Squared Error (RMSE)."
   ]
  },
  {
   "cell_type": "code",
   "id": "c5be480e1dae6e85",
   "metadata": {},
   "source": "# TODO: Calculate R² score",
   "outputs": [],
   "execution_count": null
  },
  {
   "cell_type": "code",
   "id": "390a5636f99b6a67",
   "metadata": {},
   "source": "# TODO: Calculate RMSE",
   "outputs": [],
   "execution_count": null
  }
 ],
 "metadata": {
  "kernelspec": {
   "display_name": "Python 3",
   "language": "python",
   "name": "python3"
  },
  "language_info": {
   "name": "python",
   "version": "3.9.0"
  }
 },
 "nbformat": 4,
 "nbformat_minor": 5
}
