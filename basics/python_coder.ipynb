{
 "nbformat": 4,
 "nbformat_minor": 0,
 "metadata": {
  "colab": {
   "provenance": [],
   "authorship_tag": "ABX9TyMjKhQcuS4qxfesgwgwfIb3"
  },
  "kernelspec": {
   "name": "python3",
   "display_name": "Python 3 (ipykernel)",
   "language": "python"
  },
  "language_info": {
   "name": "python"
  }
 },
 "cells": [
  {
   "cell_type": "markdown",
   "source": [
    "# Python Workshop\n",
    "\n",
    "You will develop a small Python solution that offers a moving rating interface.  Applying key concepts from our Python tutoral will be required in order to solve this, but there are many possible solutions.\n",
    "\n",
    "# Step 1 -- lets add some data\n",
    "\n",
    "<style>\n",
    "table {\n",
    "  border-collapse: collapse;\n",
    "  width: 60%;\n",
    "  font-family: Arial, sans-serif;\n",
    "}\n",
    "th, td {\n",
    "  border: 1px solid #ddd;\n",
    "  padding: 8px;\n",
    "  text-align: left;\n",
    "}\n",
    "th {\n",
    "  background-color: #f2f2f2;\n",
    "}\n",
    "tr:nth-child(even) {\n",
    "  background-color: #f9f9f9;\n",
    "}\n",
    "</style>\n",
    "\n",
    "<table>\n",
    "  <tr><th>Title</th><th>Year</th><th>Rating</th></tr>\n",
    "  <tr><td>Inception</td><td>2010</td><td>8.8</td></tr>\n",
    "  <tr><td>The Matrix</td><td>1999</td><td>8.7</td></tr>\n",
    "  <tr><td>Interstellar</td><td>2014</td><td>8.6</td></tr>\n",
    "  <tr><td>Parasite</td><td>2019</td><td>8.6</td></tr>\n",
    "  <tr><td>The Godfather</td><td>1972</td><td>9.2</td></tr>\n",
    "  <tr><td>The Dark Knight</td><td>2008</td><td>9.0</td></tr>\n",
    "  <tr><td>Pulp Fiction</td><td>1994</td><td>8.9</td></tr>\n",
    "  <tr><td>The Shawshank Redemption</td><td>1994</td><td>9.3</td></tr>\n",
    "</table>"
   ],
   "metadata": {
    "id": "AwCxgW-wt9n5"
   }
  },
  {
   "cell_type": "code",
   "metadata": {
    "colab": {
     "base_uri": "https://localhost:8080/"
    },
    "id": "XKlzrZuHt76q",
    "executionInfo": {
     "status": "ok",
     "timestamp": 1759721386861,
     "user_tz": 420,
     "elapsed": 14,
     "user": {
      "displayName": "Richard Gessner",
      "userId": "04866485102218961500"
     }
    },
    "outputId": "3883205b-ee05-411c-da6a-c3d32236455b"
   },
   "source": [
    "movies = [\n",
    "  ('INception', 2010, 8.8),\n",
    "  ('The Matrix', 1999, 8.7),\n",
    "  ('Interstellar', 2014, 8.6),\n",
    "  ('Parasite', 2019, 8.6),\n",
    "  ('The Godfather', 1972, 9.2),\n",
    "  ('The Dark Knight', 2008, 9.0),\n",
    "  ('Pulp Fiction', 1994, 8.9),\n",
    "  ('The Shawshank Redemption', 1994, 9.3)\n",
    "]\n"
   ],
   "outputs": [],
   "execution_count": null
  },
  {
   "cell_type": "markdown",
   "source": [
    "# Step 2 -- Lets find the highest rated movie..."
   ],
   "metadata": {
    "id": "0vZb34R5vh-5"
   }
  },
  {
   "cell_type": "code",
   "source": [
    "# get highest-rated movie\n",
    "theBest = 0\n",
    "for movie in movies:\n",
    "  if movie[2] > theBest:\n",
    "    theBest = movie[2]\n",
    "    bestMovie = movie\n",
    "print(bestMovie)"
   ],
   "metadata": {
    "colab": {
     "base_uri": "https://localhost:8080/"
    },
    "id": "zrm31ixJwnIb",
    "executionInfo": {
     "status": "ok",
     "timestamp": 1759721402418,
     "user_tz": 420,
     "elapsed": 7,
     "user": {
      "displayName": "Richard Gessner",
      "userId": "04866485102218961500"
     }
    },
    "outputId": "f990c898-1084-4ef7-a7ad-31e358c17304"
   },
   "outputs": [],
   "execution_count": null
  },
  {
   "cell_type": "markdown",
   "source": [
    "# Step 3 -- Lets find the average rated movie..."
   ],
   "metadata": {
    "id": "EAZIWZ3OwpvP"
   }
  },
  {
   "cell_type": "code",
   "source": [
    "# get average rated\n",
    "theTotal = 0\n",
    "for movie in movies:\n",
    "  theTotal += movie[2]\n",
    "theAverage = theTotal / len(movies)\n",
    "print(theAverage)"
   ],
   "metadata": {
    "colab": {
     "base_uri": "https://localhost:8080/"
    },
    "id": "EMazdqK6wtG5",
    "executionInfo": {
     "status": "ok",
     "timestamp": 1759721456009,
     "user_tz": 420,
     "elapsed": 7,
     "user": {
      "displayName": "Richard Gessner",
      "userId": "04866485102218961500"
     }
    },
    "outputId": "4d756b4b-67f8-4a7d-8479-ed3afce0939d"
   },
   "outputs": [],
   "execution_count": null
  },
  {
   "cell_type": "markdown",
   "source": [
    "## Step 4 -- Make your data searchable by getting user input\n",
    "\n",
    "To get input in python we can use `input` statement:\n",
    "\n",
    "```\n",
    "print(\"Search for a movie!\")\n",
    "query = input(\"Your wish: \").strip()\n",
    "print(\"query\", query)\n",
    "```\n",
    "\n",
    "We can convert strings from input() into numbers using int() or float(), and related functions.\n",
    "\n",
    "Two other useful functions:\n",
    "`string.isdigit()` that tells us if a string contains digits only (integer)\n",
    "\n",
    "`query.replace(target,replace, pos)` creates a new string where all occurrences of a given substring are replaced by another substring\n",
    "\n",
    "```\n",
    "string.replace(old, new, count)\n",
    "```\n"
   ],
   "metadata": {
    "id": "MDqLLL8XlYNY"
   }
  },
  {
   "cell_type": "code",
   "source": [
    "# add logic to get user input...\n",
    "import difflib   # built-in (no install needed)\n",
    "\n",
    "query = ''\n",
    "while query != 'done':\n",
    "    print(\"Search for a movie, or say 'done'!\")\n",
    "    query = input(\"Your wish: \").strip()\n",
    "    found = False   # Python uses capital F\n",
    "\n",
    "    if query == 'done':\n",
    "        print(\"Search complete!\")\n",
    "        break\n",
    "\n",
    "    # ---- Check for integer (year) ----\n",
    "    if query.isdigit():\n",
    "        year = int(query)\n",
    "        for movie in movies:\n",
    "            if movie[1] == year:\n",
    "                print(movie)\n",
    "                found = True\n",
    "\n",
    "    # ---- Check for float (rating) ----\n",
    "    elif query.count('.') == 1 and query.replace('.', '', 1).isdigit():\n",
    "        rating = float(query)\n",
    "        for movie in movies:\n",
    "            if movie[2] == rating:   # index 2 = rating\n",
    "                print(movie)\n",
    "                found = True\n",
    "\n",
    "    # ---- Otherwise: substring search ----\n",
    "    else:\n",
    "        text = query.lower()\n",
    "        for movie in movies:\n",
    "            if text in movie[0].lower():\n",
    "                print(\"-\", movie[0], \"(\", movie[1], \")\", movie[2], \"\\n\")\n",
    "                found = True\n",
    "\n",
    "    if not found:\n",
    "        print(\"No matches found.\\n\")"
   ],
   "metadata": {
    "colab": {
     "base_uri": "https://localhost:8080/"
    },
    "id": "Nl1vU1MClk1g",
    "executionInfo": {
     "status": "ok",
     "timestamp": 1759724416383,
     "user_tz": 420,
     "elapsed": 14967,
     "user": {
      "displayName": "Richard Gessner",
      "userId": "04866485102218961500"
     }
    },
    "outputId": "30ea56c1-5031-4546-dd65-ae6c671c8ea0"
   },
   "outputs": [],
   "execution_count": null
  },
  {
   "cell_type": "code",
   "source": [],
   "metadata": {
    "id": "I2m5ghO1mBYS",
    "executionInfo": {
     "status": "ok",
     "timestamp": 1759721822080,
     "user_tz": 420,
     "elapsed": 1,
     "user": {
      "displayName": "Richard Gessner",
      "userId": "04866485102218961500"
     }
    }
   },
   "outputs": [],
   "execution_count": null
  }
 ]
}
