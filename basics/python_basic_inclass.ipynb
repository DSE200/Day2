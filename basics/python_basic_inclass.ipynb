{
 "nbformat": 4,
 "nbformat_minor": 0,
 "metadata": {
  "colab": {
   "provenance": []
  },
  "kernelspec": {
   "name": "python3",
   "display_name": "Python 3 (ipykernel)",
   "language": "python"
  },
  "language_info": {
   "name": "python"
  }
 },
 "cells": [
  {
   "cell_type": "markdown",
   "source": [
    "## Step 2: Let's read a set of monthly data from the CSV"
   ],
   "metadata": {
    "id": "5tW1dlAd_SLA"
   }
  },
  {
   "cell_type": "code",
   "source": [
    "import csv\n",
    "from collections import defaultdict  #provide default values for null keys\n",
    "from datetime import datetime\n",
    "\n",
    "import matplotlib.pyplot as plt\n",
    "\n",
    "monthly_data = defaultdict(list)\n",
    "p = print\n",
    "\n",
    "# Step 1: Read CSV file and organize data by month\n",
    "import requests\n",
    "from io import StringIO\n",
    "\n",
    "# Download the CSV from R2\n",
    "response = requests.get('https://dse200.dev/Day2/temperatures.csv')\n",
    "csv_content = StringIO(response.text)\n",
    "\n",
    "theReader = csv.DictReader(csv_content)\n",
    "theCols = theReader.fieldnames[:3]\n",
    "theMonthCol = theCols[2]\n",
    "for row in theReader:\n",
    "    if all(row[col].strip() != '' for col in theCols):\n",
    "        theDate = datetime.strptime(row['date'], '%Y-%m-%d')\n",
    "        theKey = theDate.strftime('%Y-%m')\n",
    "        monthly_data[theKey].append(float(row[theMonthCol]))\n",
    "\n",
    "p(monthly_data)\n",
    "\n",
    "#add code..."
   ],
   "metadata": {
    "id": "Zto_JdZ__X-L",
    "colab": {
     "base_uri": "https://localhost:8080/"
    },
    "outputId": "5426cb67-9ce9-4a0d-aa13-4dbf58a24ffd"
   },
   "outputs": [],
   "execution_count": null
  },
  {
   "cell_type": "markdown",
   "source": [
    "## Step 3: Let's gather and order the monthly stats"
   ],
   "metadata": {
    "id": "WQgajmDs_fGY"
   }
  },
  {
   "cell_type": "code",
   "source": [
    "#capture avg, min, max data for each date...\n",
    "\n",
    "monthly_stats = []\n",
    "\n",
    "#add code...\n",
    "for theDate, temps in monthly_data.items():\n",
    "    avg_temp = sum(temps) / len(temps)\n",
    "    min_temp = min(temps)\n",
    "    max_temp = max(temps)\n",
    "    monthly_stats.append((theDate, avg_temp, min_temp, max_temp))\n",
    "\n",
    "monthly_stats.sort()  #sort it...\n",
    "\n",
    "p(monthly_stats)\n",
    "\n",
    "#fetch some data for our plots\n",
    "\n",
    "months = [month for month, _, _, _ in monthly_stats]\n",
    "avg_temps = [avg_temp for _, avg_temp, _, _ in monthly_stats]\n"
   ],
   "metadata": {
    "id": "Vphc42yb_utX",
    "colab": {
     "base_uri": "https://localhost:8080/"
    },
    "outputId": "3528d34f-a8d6-44a9-f2ba-703d2921c6dc"
   },
   "outputs": [],
   "execution_count": null
  },
  {
   "cell_type": "markdown",
   "source": [
    "## Step 4: Let's visualize some data..."
   ],
   "metadata": {
    "id": "iLe7wrFy_1xY"
   }
  },
  {
   "cell_type": "code",
   "source": [
    "# Now write the actual plot code\n",
    "\n",
    "plt.figure(figsize=(10, 5))\n",
    "\n",
    "plt.plot(months, avg_temps, marker='o')\n",
    "plt.xlabel('xMonth')\n",
    "plt.ylabel('Average Temperature')\n",
    "plt.title('Average Temperature')\n",
    "plt.grid(True, color='#8844bb', alpha=0.2)\n",
    "plt.xticks(rotation=45)\n",
    "plt.tight_layout\n",
    "plt.show()"
   ],
   "metadata": {
    "colab": {
     "base_uri": "https://localhost:8080/",
     "height": 524
    },
    "id": "6lsYuWZh_-pN",
    "outputId": "b1b5997b-f487-4c19-8844-fb0fcf8b7ebd"
   },
   "outputs": [],
   "execution_count": null
  },
  {
   "cell_type": "markdown",
   "source": [
    "## Just for fun, lets save some data..."
   ],
   "metadata": {
    "id": "bqIMG5whAmHu"
   }
  },
  {
   "cell_type": "code",
   "source": [
    "# Step 4: Save the results to a new CSV file\n",
    "output_path = 'monthly_temperature_stats_plain_python.csv'\n",
    "\n",
    "with open(output_path, mode='w', newline='') as file:\n",
    "    writer = csv.writer(file)\n",
    "    writer.writerow(['Month', 'Average Temperature', 'Min Temperature', 'Max Temperature'])\n",
    "    writer.writerows(monthly_stats)\n",
    "\n",
    "# Display the calculated monthly statistics to the user\n",
    "monthly_stats"
   ],
   "metadata": {
    "colab": {
     "base_uri": "https://localhost:8080/"
    },
    "id": "tO3Xt4bRAoq_",
    "outputId": "98101d45-e3c1-415c-f8bc-4714c523e6d3"
   },
   "outputs": [],
   "execution_count": null
  }
 ]
}
