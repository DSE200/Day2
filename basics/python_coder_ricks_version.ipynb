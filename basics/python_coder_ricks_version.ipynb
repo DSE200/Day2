{
 "cells": [
  {
   "cell_type": "markdown",
   "metadata": {
    "id": "AwCxgW-wt9n5"
   },
   "source": [
    "# Python Workshop\n",
    "\n",
    "You will develop a small Python solution that offers a moving rating interface.  Applying key concepts from our Python tutoral will be required in order to solve this, but there are many possible solutions.\n",
    "\n",
    "# Step 1 -- lets add some data\n",
    "\n",
    "<style>\n",
    "table {\n",
    "  border-collapse: collapse;\n",
    "  width: 60%;\n",
    "  font-family: Arial, sans-serif;\n",
    "}\n",
    "th, td {\n",
    "  border: 1px solid #ddd;\n",
    "  padding: 8px;\n",
    "  text-align: left;\n",
    "}\n",
    "th {\n",
    "  background-color: #f2f2f2;\n",
    "}\n",
    "tr:nth-child(even) {\n",
    "  background-color: #f9f9f9;\n",
    "}\n",
    "</style>\n",
    "\n",
    "<table>\n",
    "  <tr><th>Title</th><th>Year</th><th>Rating</th></tr>\n",
    "  <tr><td>Inception</td><td>2010</td><td>8.8</td></tr>\n",
    "  <tr><td>The Matrix</td><td>1999</td><td>8.7</td></tr>\n",
    "  <tr><td>Interstellar</td><td>2014</td><td>8.6</td></tr>\n",
    "  <tr><td>Parasite</td><td>2019</td><td>8.6</td></tr>\n",
    "  <tr><td>The Godfather</td><td>1972</td><td>9.2</td></tr>\n",
    "  <tr><td>The Dark Knight</td><td>2008</td><td>9.0</td></tr>\n",
    "  <tr><td>Pulp Fiction</td><td>1994</td><td>8.9</td></tr>\n",
    "  <tr><td>The Shawshank Redemption</td><td>1994</td><td>9.3</td></tr>\n",
    "</table>"
   ]
  },
  {
   "cell_type": "code",
   "metadata": {
    "executionInfo": {
     "elapsed": 34,
     "status": "ok",
     "timestamp": 1760118455792,
     "user": {
      "displayName": "Richard Gessner",
      "userId": "04866485102218961500"
     },
     "user_tz": 420
    },
    "id": "XKlzrZuHt76q"
   },
   "source": [
    "movies = [\n",
    "    ('INception', 2010, 8.8),\n",
    "    ('The Matrix', 1999, 8.7),\n",
    "    ('Interstellar', 2014, 8.6),\n",
    "    ('Parasite', 2019, 8.6),\n",
    "    ('The Godfather', 1972, 9.2),\n",
    "    ('The Dark Knight', 2008, 9.0),\n",
    "    ('Pulp Fiction', 1994, 8.9),\n",
    "    ('The Shawshank Redemption', 1994, 9.3)\n",
    "]\n"
   ],
   "outputs": [],
   "execution_count": null
  },
  {
   "cell_type": "markdown",
   "metadata": {
    "id": "0vZb34R5vh-5"
   },
   "source": [
    "# Step 2 -- Lets find the highest rated movie..."
   ]
  },
  {
   "cell_type": "code",
   "metadata": {
    "colab": {
     "base_uri": "https://localhost:8080/"
    },
    "executionInfo": {
     "elapsed": 7,
     "status": "ok",
     "timestamp": 1760118459212,
     "user": {
      "displayName": "Richard Gessner",
      "userId": "04866485102218961500"
     },
     "user_tz": 420
    },
    "id": "zrm31ixJwnIb",
    "outputId": "40f1fcf8-ccc3-4cdd-feb1-3e933027e9ed"
   },
   "source": [
    "# get highest-rated movie\n",
    "theBest = 0\n",
    "for movie in movies:\n",
    "    if movie[2] > theBest:\n",
    "        theBest = movie[2]\n",
    "        bestMovie = movie\n",
    "print(bestMovie)"
   ],
   "outputs": [],
   "execution_count": null
  },
  {
   "cell_type": "markdown",
   "metadata": {
    "id": "EAZIWZ3OwpvP"
   },
   "source": [
    "# Step 3 -- Lets find the average rated movie..."
   ]
  },
  {
   "cell_type": "code",
   "metadata": {
    "colab": {
     "base_uri": "https://localhost:8080/"
    },
    "executionInfo": {
     "elapsed": 4,
     "status": "ok",
     "timestamp": 1760067489366,
     "user": {
      "displayName": "Richard Gessner",
      "userId": "04866485102218961500"
     },
     "user_tz": 420
    },
    "id": "EMazdqK6wtG5",
    "outputId": "8e486fcc-56e1-4c55-eb91-fe056621af74"
   },
   "source": [
    "# get average rated\n",
    "theTotal = 0\n",
    "for movie in movies:\n",
    "    theTotal += movie[2]\n",
    "theAverage = theTotal / len(movies)\n",
    "print(theAverage)"
   ],
   "outputs": [],
   "execution_count": null
  },
  {
   "cell_type": "markdown",
   "metadata": {
    "id": "MDqLLL8XlYNY"
   },
   "source": [
    "## Step 4 -- Make your data searchable by getting user input\n",
    "\n",
    "To get input in python we can use `input` statement:\n",
    "\n",
    "```\n",
    "print(\"Search for a movie!\")\n",
    "query = input(\"Your wish: \").strip()\n",
    "print(\"query\", query)\n",
    "```\n",
    "\n",
    "We can convert strings from input() into numbers using int() or float(), and related functions.\n",
    "\n",
    "Two other useful functions:\n",
    "`string.isdigit()` that tells us if a string contains digits only (integer)\n",
    "\n",
    "`query.replace(target,replace, pos)` creates a new string where all occurrences of a given substring are replaced by another substring\n",
    "\n",
    "```\n",
    "string.replace(old, new, count)\n",
    "```\n"
   ]
  },
  {
   "cell_type": "code",
   "metadata": {
    "colab": {
     "base_uri": "https://localhost:8080/"
    },
    "id": "Nl1vU1MClk1g",
    "executionInfo": {
     "status": "ok",
     "timestamp": 1760118511979,
     "user_tz": 420,
     "elapsed": 48553,
     "user": {
      "displayName": "Richard Gessner",
      "userId": "04866485102218961500"
     }
    },
    "outputId": "9d1c6fc2-eddf-45f1-b977-2c6b64972fcb"
   },
   "source": [
    "# add logic to get user input...\n",
    "\n",
    "query = ''\n",
    "while query != 'done':\n",
    "    print(\"Search for a movie, or say 'done'!\")\n",
    "    query = input(\"Your wish: \").strip()\n",
    "    found = False  # Python uses capital F\n",
    "\n",
    "    if query == 'done':\n",
    "        print(\"Search complete!\")\n",
    "        break\n",
    "\n",
    "    # ---- Check for integer (year) ----\n",
    "    if query.isdigit():\n",
    "        year = int(query)\n",
    "        for movie in movies:\n",
    "            if movie[1] == year:\n",
    "                print(movie)\n",
    "                found = True\n",
    "\n",
    "    # ---- Check for float (rating) ----\n",
    "    elif query.count('.') == 1 and query.replace('.', '', 1).isdigit():\n",
    "        rating = float(query)\n",
    "        for movie in movies:\n",
    "            if movie[2] == rating:  # index 2 = rating\n",
    "                print(movie)\n",
    "                found = True\n",
    "\n",
    "    # ---- Otherwise: substring search ----\n",
    "    else:\n",
    "        text = query.lower()\n",
    "        for movie in movies:\n",
    "            if text in movie[0].lower():\n",
    "                print(\"-\", movie[0], \"(\", movie[1], \")\", movie[2], \"\\n\")\n",
    "                found = True\n",
    "\n",
    "    if not found:\n",
    "        print(\"No matches found.\\n\")"
   ],
   "outputs": [],
   "execution_count": null
  },
  {
   "cell_type": "code",
   "metadata": {
    "id": "I2m5ghO1mBYS"
   },
   "source": [],
   "outputs": [],
   "execution_count": null
  }
 ],
 "metadata": {
  "colab": {
   "provenance": [],
   "authorship_tag": "ABX9TyMjKhQcuS4qxfesgwgwfIb3"
  },
  "kernelspec": {
   "display_name": "Python 3",
   "name": "python3"
  },
  "language_info": {
   "name": "python"
  }
 },
 "nbformat": 4,
 "nbformat_minor": 0
}
